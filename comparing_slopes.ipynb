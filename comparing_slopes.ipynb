{
  "nbformat": 4,
  "nbformat_minor": 0,
  "metadata": {
    "colab": {
      "provenance": [],
      "authorship_tag": "ABX9TyNpICJ0hYBVCO9TvEc24rfs",
      "include_colab_link": true
    },
    "kernelspec": {
      "name": "python3",
      "display_name": "Python 3"
    },
    "language_info": {
      "name": "python"
    }
  },
  "cells": [
    {
      "cell_type": "markdown",
      "metadata": {
        "id": "view-in-github",
        "colab_type": "text"
      },
      "source": [
        "<a href=\"https://colab.research.google.com/github/stephenbaum/Comparing-Slopes/blob/main/comparing_slopes.ipynb\" target=\"_parent\"><img src=\"https://colab.research.google.com/assets/colab-badge.svg\" alt=\"Open In Colab\"/></a>"
      ]
    },
    {
      "cell_type": "code",
      "execution_count": 61,
      "metadata": {
        "id": "2JAH4kk4QXlL"
      },
      "outputs": [],
      "source": [
        "# import the packages of interest\n",
        "import numpy as np\n",
        "import pandas as pd\n",
        "import statsmodels.api as sm\n",
        "import statsmodels.formula.api as smf\n",
        "import matplotlib.pyplot as plt\n",
        "import seaborn as sns\n",
        "import math\n",
        "from scipy import stats"
      ]
    },
    {
      "cell_type": "code",
      "source": [
        "# the most simple version - you just plug everything in\n",
        "def comp_slopes(b1, b2, se1, se2):\n",
        "  # take the differences in slopes\n",
        "  slop_dif = b1 - b2\n",
        "  # square the ses\n",
        "  se1_sq = se1**2\n",
        "  se2_sq = se2**2\n",
        "  se_comp = se1_sq + se2_sq # combine the ses\n",
        "  sqrt_se_comp = math.sqrt(se_comp)\n",
        "  z = round(slop_dif / sqrt_se_comp, 4) # can change if needed\n",
        "  return (f\"The Z statistic is {z}\")"
      ],
      "metadata": {
        "id": "c3ae4xpHsjrG"
      },
      "execution_count": 15,
      "outputs": []
    },
    {
      "cell_type": "code",
      "source": [
        "# testing using example one from Paternoster et al., 1998\n",
        "comp_slopes(.404, .221, .094, .091)"
      ],
      "metadata": {
        "colab": {
          "base_uri": "https://localhost:8080/",
          "height": 35
        },
        "id": "E4ucZRe6uLqJ",
        "outputId": "c00a511c-3fce-48fc-a9a0-985817f25d4b"
      },
      "execution_count": 16,
      "outputs": [
        {
          "output_type": "execute_result",
          "data": {
            "text/plain": [
              "'The Z statistic is 1.3987'"
            ],
            "application/vnd.google.colaboratory.intrinsic+json": {
              "type": "string"
            }
          },
          "metadata": {},
          "execution_count": 16
        }
      ]
    },
    {
      "cell_type": "code",
      "source": [
        "# now, a more involved version with simulated data and models"
      ],
      "metadata": {
        "id": "In-MtFcLvI-S"
      },
      "execution_count": null,
      "outputs": []
    },
    {
      "cell_type": "code",
      "source": [
        "# set a seed\n",
        "np.random.seed(1234)"
      ],
      "metadata": {
        "id": "-fDZyq0URNWF"
      },
      "execution_count": 41,
      "outputs": []
    },
    {
      "cell_type": "code",
      "source": [
        "# create the id variable\n",
        "id_one = np.arange(1,1001)\n",
        "id_two = np.arange(1,1001)"
      ],
      "metadata": {
        "id": "M4sGGPPTRQMt"
      },
      "execution_count": 42,
      "outputs": []
    },
    {
      "cell_type": "code",
      "source": [
        "# create two predictors\n",
        "pred_one = np.random.randint(0, 2, size=1000)\n",
        "pred_two = np.random.randint(0, 2, size=1000)"
      ],
      "metadata": {
        "id": "s_Zx9Lx-RYij"
      },
      "execution_count": 43,
      "outputs": []
    },
    {
      "cell_type": "code",
      "source": [
        "# create the dependent variables\n",
        "dv_one = []\n",
        "dv_two = []\n",
        "for i in range(1000):\n",
        "  if pred_one[i] == 0:\n",
        "    mean = 45\n",
        "  elif pred_one[i] == 1:\n",
        "    mean = 55\n",
        "  dv_one.append(np.random.normal(loc=mean, scale=7)) # make the sd a little different here\n",
        "for i in range(1000):\n",
        "  if pred_two[i] == 0:\n",
        "    mean = 50\n",
        "  elif pred_two[i] == 1:\n",
        "    mean = 70\n",
        "  dv_two.append(np.random.normal(loc=mean, scale=5))"
      ],
      "metadata": {
        "id": "EmvHOTaczHl1"
      },
      "execution_count": 48,
      "outputs": []
    },
    {
      "cell_type": "code",
      "source": [
        "# create two dfs\n",
        "df_one = pd.DataFrame({'ID': id_one,\n",
        "                       'Predictor': pred_one,\n",
        "                       'DV': dv_one})\n",
        "df_two = pd.DataFrame({'ID': id_two,\n",
        "                       'Predictor': pred_two,\n",
        "                       'DV': dv_two})"
      ],
      "metadata": {
        "id": "_MHw4xVP0F-Y"
      },
      "execution_count": 49,
      "outputs": []
    },
    {
      "cell_type": "code",
      "source": [
        "# look at the dfs\n",
        "df_two.head()"
      ],
      "metadata": {
        "colab": {
          "base_uri": "https://localhost:8080/",
          "height": 206
        },
        "id": "JZzW-jUH0fXk",
        "outputId": "976c202f-dc8a-41e4-b8dd-475f84c7a9e0"
      },
      "execution_count": 50,
      "outputs": [
        {
          "output_type": "execute_result",
          "data": {
            "text/plain": [
              "   ID  Predictor         DV\n",
              "0   1          1  71.412836\n",
              "1   2          1  67.705344\n",
              "2   3          1  70.362099\n",
              "3   4          0  50.074108\n",
              "4   5          1  69.965392"
            ],
            "text/html": [
              "\n",
              "  <div id=\"df-4cfe4f11-ed69-418c-bfc7-fa3702e943c6\" class=\"colab-df-container\">\n",
              "    <div>\n",
              "<style scoped>\n",
              "    .dataframe tbody tr th:only-of-type {\n",
              "        vertical-align: middle;\n",
              "    }\n",
              "\n",
              "    .dataframe tbody tr th {\n",
              "        vertical-align: top;\n",
              "    }\n",
              "\n",
              "    .dataframe thead th {\n",
              "        text-align: right;\n",
              "    }\n",
              "</style>\n",
              "<table border=\"1\" class=\"dataframe\">\n",
              "  <thead>\n",
              "    <tr style=\"text-align: right;\">\n",
              "      <th></th>\n",
              "      <th>ID</th>\n",
              "      <th>Predictor</th>\n",
              "      <th>DV</th>\n",
              "    </tr>\n",
              "  </thead>\n",
              "  <tbody>\n",
              "    <tr>\n",
              "      <th>0</th>\n",
              "      <td>1</td>\n",
              "      <td>1</td>\n",
              "      <td>71.412836</td>\n",
              "    </tr>\n",
              "    <tr>\n",
              "      <th>1</th>\n",
              "      <td>2</td>\n",
              "      <td>1</td>\n",
              "      <td>67.705344</td>\n",
              "    </tr>\n",
              "    <tr>\n",
              "      <th>2</th>\n",
              "      <td>3</td>\n",
              "      <td>1</td>\n",
              "      <td>70.362099</td>\n",
              "    </tr>\n",
              "    <tr>\n",
              "      <th>3</th>\n",
              "      <td>4</td>\n",
              "      <td>0</td>\n",
              "      <td>50.074108</td>\n",
              "    </tr>\n",
              "    <tr>\n",
              "      <th>4</th>\n",
              "      <td>5</td>\n",
              "      <td>1</td>\n",
              "      <td>69.965392</td>\n",
              "    </tr>\n",
              "  </tbody>\n",
              "</table>\n",
              "</div>\n",
              "    <div class=\"colab-df-buttons\">\n",
              "\n",
              "  <div class=\"colab-df-container\">\n",
              "    <button class=\"colab-df-convert\" onclick=\"convertToInteractive('df-4cfe4f11-ed69-418c-bfc7-fa3702e943c6')\"\n",
              "            title=\"Convert this dataframe to an interactive table.\"\n",
              "            style=\"display:none;\">\n",
              "\n",
              "  <svg xmlns=\"http://www.w3.org/2000/svg\" height=\"24px\" viewBox=\"0 -960 960 960\">\n",
              "    <path d=\"M120-120v-720h720v720H120Zm60-500h600v-160H180v160Zm220 220h160v-160H400v160Zm0 220h160v-160H400v160ZM180-400h160v-160H180v160Zm440 0h160v-160H620v160ZM180-180h160v-160H180v160Zm440 0h160v-160H620v160Z\"/>\n",
              "  </svg>\n",
              "    </button>\n",
              "\n",
              "  <style>\n",
              "    .colab-df-container {\n",
              "      display:flex;\n",
              "      gap: 12px;\n",
              "    }\n",
              "\n",
              "    .colab-df-convert {\n",
              "      background-color: #E8F0FE;\n",
              "      border: none;\n",
              "      border-radius: 50%;\n",
              "      cursor: pointer;\n",
              "      display: none;\n",
              "      fill: #1967D2;\n",
              "      height: 32px;\n",
              "      padding: 0 0 0 0;\n",
              "      width: 32px;\n",
              "    }\n",
              "\n",
              "    .colab-df-convert:hover {\n",
              "      background-color: #E2EBFA;\n",
              "      box-shadow: 0px 1px 2px rgba(60, 64, 67, 0.3), 0px 1px 3px 1px rgba(60, 64, 67, 0.15);\n",
              "      fill: #174EA6;\n",
              "    }\n",
              "\n",
              "    .colab-df-buttons div {\n",
              "      margin-bottom: 4px;\n",
              "    }\n",
              "\n",
              "    [theme=dark] .colab-df-convert {\n",
              "      background-color: #3B4455;\n",
              "      fill: #D2E3FC;\n",
              "    }\n",
              "\n",
              "    [theme=dark] .colab-df-convert:hover {\n",
              "      background-color: #434B5C;\n",
              "      box-shadow: 0px 1px 3px 1px rgba(0, 0, 0, 0.15);\n",
              "      filter: drop-shadow(0px 1px 2px rgba(0, 0, 0, 0.3));\n",
              "      fill: #FFFFFF;\n",
              "    }\n",
              "  </style>\n",
              "\n",
              "    <script>\n",
              "      const buttonEl =\n",
              "        document.querySelector('#df-4cfe4f11-ed69-418c-bfc7-fa3702e943c6 button.colab-df-convert');\n",
              "      buttonEl.style.display =\n",
              "        google.colab.kernel.accessAllowed ? 'block' : 'none';\n",
              "\n",
              "      async function convertToInteractive(key) {\n",
              "        const element = document.querySelector('#df-4cfe4f11-ed69-418c-bfc7-fa3702e943c6');\n",
              "        const dataTable =\n",
              "          await google.colab.kernel.invokeFunction('convertToInteractive',\n",
              "                                                    [key], {});\n",
              "        if (!dataTable) return;\n",
              "\n",
              "        const docLinkHtml = 'Like what you see? Visit the ' +\n",
              "          '<a target=\"_blank\" href=https://colab.research.google.com/notebooks/data_table.ipynb>data table notebook</a>'\n",
              "          + ' to learn more about interactive tables.';\n",
              "        element.innerHTML = '';\n",
              "        dataTable['output_type'] = 'display_data';\n",
              "        await google.colab.output.renderOutput(dataTable, element);\n",
              "        const docLink = document.createElement('div');\n",
              "        docLink.innerHTML = docLinkHtml;\n",
              "        element.appendChild(docLink);\n",
              "      }\n",
              "    </script>\n",
              "  </div>\n",
              "\n",
              "\n",
              "<div id=\"df-806f0849-b993-41f3-8c3a-1fab30b57ed1\">\n",
              "  <button class=\"colab-df-quickchart\" onclick=\"quickchart('df-806f0849-b993-41f3-8c3a-1fab30b57ed1')\"\n",
              "            title=\"Suggest charts\"\n",
              "            style=\"display:none;\">\n",
              "\n",
              "<svg xmlns=\"http://www.w3.org/2000/svg\" height=\"24px\"viewBox=\"0 0 24 24\"\n",
              "     width=\"24px\">\n",
              "    <g>\n",
              "        <path d=\"M19 3H5c-1.1 0-2 .9-2 2v14c0 1.1.9 2 2 2h14c1.1 0 2-.9 2-2V5c0-1.1-.9-2-2-2zM9 17H7v-7h2v7zm4 0h-2V7h2v10zm4 0h-2v-4h2v4z\"/>\n",
              "    </g>\n",
              "</svg>\n",
              "  </button>\n",
              "\n",
              "<style>\n",
              "  .colab-df-quickchart {\n",
              "      --bg-color: #E8F0FE;\n",
              "      --fill-color: #1967D2;\n",
              "      --hover-bg-color: #E2EBFA;\n",
              "      --hover-fill-color: #174EA6;\n",
              "      --disabled-fill-color: #AAA;\n",
              "      --disabled-bg-color: #DDD;\n",
              "  }\n",
              "\n",
              "  [theme=dark] .colab-df-quickchart {\n",
              "      --bg-color: #3B4455;\n",
              "      --fill-color: #D2E3FC;\n",
              "      --hover-bg-color: #434B5C;\n",
              "      --hover-fill-color: #FFFFFF;\n",
              "      --disabled-bg-color: #3B4455;\n",
              "      --disabled-fill-color: #666;\n",
              "  }\n",
              "\n",
              "  .colab-df-quickchart {\n",
              "    background-color: var(--bg-color);\n",
              "    border: none;\n",
              "    border-radius: 50%;\n",
              "    cursor: pointer;\n",
              "    display: none;\n",
              "    fill: var(--fill-color);\n",
              "    height: 32px;\n",
              "    padding: 0;\n",
              "    width: 32px;\n",
              "  }\n",
              "\n",
              "  .colab-df-quickchart:hover {\n",
              "    background-color: var(--hover-bg-color);\n",
              "    box-shadow: 0 1px 2px rgba(60, 64, 67, 0.3), 0 1px 3px 1px rgba(60, 64, 67, 0.15);\n",
              "    fill: var(--button-hover-fill-color);\n",
              "  }\n",
              "\n",
              "  .colab-df-quickchart-complete:disabled,\n",
              "  .colab-df-quickchart-complete:disabled:hover {\n",
              "    background-color: var(--disabled-bg-color);\n",
              "    fill: var(--disabled-fill-color);\n",
              "    box-shadow: none;\n",
              "  }\n",
              "\n",
              "  .colab-df-spinner {\n",
              "    border: 2px solid var(--fill-color);\n",
              "    border-color: transparent;\n",
              "    border-bottom-color: var(--fill-color);\n",
              "    animation:\n",
              "      spin 1s steps(1) infinite;\n",
              "  }\n",
              "\n",
              "  @keyframes spin {\n",
              "    0% {\n",
              "      border-color: transparent;\n",
              "      border-bottom-color: var(--fill-color);\n",
              "      border-left-color: var(--fill-color);\n",
              "    }\n",
              "    20% {\n",
              "      border-color: transparent;\n",
              "      border-left-color: var(--fill-color);\n",
              "      border-top-color: var(--fill-color);\n",
              "    }\n",
              "    30% {\n",
              "      border-color: transparent;\n",
              "      border-left-color: var(--fill-color);\n",
              "      border-top-color: var(--fill-color);\n",
              "      border-right-color: var(--fill-color);\n",
              "    }\n",
              "    40% {\n",
              "      border-color: transparent;\n",
              "      border-right-color: var(--fill-color);\n",
              "      border-top-color: var(--fill-color);\n",
              "    }\n",
              "    60% {\n",
              "      border-color: transparent;\n",
              "      border-right-color: var(--fill-color);\n",
              "    }\n",
              "    80% {\n",
              "      border-color: transparent;\n",
              "      border-right-color: var(--fill-color);\n",
              "      border-bottom-color: var(--fill-color);\n",
              "    }\n",
              "    90% {\n",
              "      border-color: transparent;\n",
              "      border-bottom-color: var(--fill-color);\n",
              "    }\n",
              "  }\n",
              "</style>\n",
              "\n",
              "  <script>\n",
              "    async function quickchart(key) {\n",
              "      const quickchartButtonEl =\n",
              "        document.querySelector('#' + key + ' button');\n",
              "      quickchartButtonEl.disabled = true;  // To prevent multiple clicks.\n",
              "      quickchartButtonEl.classList.add('colab-df-spinner');\n",
              "      try {\n",
              "        const charts = await google.colab.kernel.invokeFunction(\n",
              "            'suggestCharts', [key], {});\n",
              "      } catch (error) {\n",
              "        console.error('Error during call to suggestCharts:', error);\n",
              "      }\n",
              "      quickchartButtonEl.classList.remove('colab-df-spinner');\n",
              "      quickchartButtonEl.classList.add('colab-df-quickchart-complete');\n",
              "    }\n",
              "    (() => {\n",
              "      let quickchartButtonEl =\n",
              "        document.querySelector('#df-806f0849-b993-41f3-8c3a-1fab30b57ed1 button');\n",
              "      quickchartButtonEl.style.display =\n",
              "        google.colab.kernel.accessAllowed ? 'block' : 'none';\n",
              "    })();\n",
              "  </script>\n",
              "</div>\n",
              "\n",
              "    </div>\n",
              "  </div>\n"
            ],
            "application/vnd.google.colaboratory.intrinsic+json": {
              "type": "dataframe",
              "variable_name": "df_two",
              "summary": "{\n  \"name\": \"df_two\",\n  \"rows\": 1000,\n  \"fields\": [\n    {\n      \"column\": \"ID\",\n      \"properties\": {\n        \"dtype\": \"number\",\n        \"std\": 288,\n        \"min\": 1,\n        \"max\": 1000,\n        \"num_unique_values\": 1000,\n        \"samples\": [\n          522,\n          738,\n          741\n        ],\n        \"semantic_type\": \"\",\n        \"description\": \"\"\n      }\n    },\n    {\n      \"column\": \"Predictor\",\n      \"properties\": {\n        \"dtype\": \"number\",\n        \"std\": 0,\n        \"min\": 0,\n        \"max\": 1,\n        \"num_unique_values\": 2,\n        \"samples\": [\n          0,\n          1\n        ],\n        \"semantic_type\": \"\",\n        \"description\": \"\"\n      }\n    },\n    {\n      \"column\": \"DV\",\n      \"properties\": {\n        \"dtype\": \"number\",\n        \"std\": 11.19300649760935,\n        \"min\": 34.91806594939533,\n        \"max\": 85.0057348487745,\n        \"num_unique_values\": 1000,\n        \"samples\": [\n          76.85617598125171,\n          81.25397017572118\n        ],\n        \"semantic_type\": \"\",\n        \"description\": \"\"\n      }\n    }\n  ]\n}"
            }
          },
          "metadata": {},
          "execution_count": 50
        }
      ]
    },
    {
      "cell_type": "code",
      "source": [
        "# look at some of the summary stats\n",
        "group1_stats = df_one.groupby('Predictor')['DV'].agg(['mean','std']).round(2)\n",
        "print(f\"For Group1: \\n{group1_stats.to_string(justify='right')}\")\n",
        "group2_stats = df_two.groupby('Predictor')['DV'].agg(['mean','std']).round(2)\n",
        "print(f\"For Group2: \\n{group2_stats.to_string(justify='right')}\")"
      ],
      "metadata": {
        "colab": {
          "base_uri": "https://localhost:8080/"
        },
        "id": "yNT7LDRG2Adl",
        "outputId": "36672e13-63e4-40ea-cd68-9512a38ae970"
      },
      "execution_count": 51,
      "outputs": [
        {
          "output_type": "stream",
          "name": "stdout",
          "text": [
            "For Group1: \n",
            "            mean   std\n",
            "Predictor             \n",
            "0          45.25  6.97\n",
            "1          54.93  6.78\n",
            "For Group2: \n",
            "            mean   std\n",
            "Predictor             \n",
            "0          50.14  4.97\n",
            "1          70.07  5.23\n"
          ]
        }
      ]
    },
    {
      "cell_type": "code",
      "source": [
        "# change predictor variables to numeric\n",
        "df_one['Predictor'] = pd.to_numeric(df_one['Predictor'])\n",
        "df_two['Predictor'] = pd.to_numeric(df_two['Predictor'])"
      ],
      "metadata": {
        "id": "RCCkUE-HSpIX"
      },
      "execution_count": null,
      "outputs": []
    },
    {
      "cell_type": "code",
      "source": [
        "# the first model\n",
        "mod1 = smf.ols(formula='DV ~ Predictor', data=df_one).fit()\n",
        "print(mod1.summary())"
      ],
      "metadata": {
        "colab": {
          "base_uri": "https://localhost:8080/"
        },
        "id": "h3MMfalwSr7Y",
        "outputId": "3fad8146-0bec-4e0e-b5ba-e02f4bf818c1",
        "collapsed": true
      },
      "execution_count": 52,
      "outputs": [
        {
          "output_type": "stream",
          "name": "stdout",
          "text": [
            "                            OLS Regression Results                            \n",
            "==============================================================================\n",
            "Dep. Variable:                     DV   R-squared:                       0.331\n",
            "Model:                            OLS   Adj. R-squared:                  0.331\n",
            "Method:                 Least Squares   F-statistic:                     494.9\n",
            "Date:                Fri, 28 Feb 2025   Prob (F-statistic):           2.36e-89\n",
            "Time:                        04:43:06   Log-Likelihood:                -3345.5\n",
            "No. Observations:                1000   AIC:                             6695.\n",
            "Df Residuals:                     998   BIC:                             6705.\n",
            "Df Model:                           1                                         \n",
            "Covariance Type:            nonrobust                                         \n",
            "==============================================================================\n",
            "                 coef    std err          t      P>|t|      [0.025      0.975]\n",
            "------------------------------------------------------------------------------\n",
            "Intercept     45.2477      0.315    143.489      0.000      44.629      45.866\n",
            "Predictor      9.6813      0.435     22.245      0.000       8.827      10.535\n",
            "==============================================================================\n",
            "Omnibus:                        4.075   Durbin-Watson:                   2.016\n",
            "Prob(Omnibus):                  0.130   Jarque-Bera (JB):                3.675\n",
            "Skew:                          -0.086   Prob(JB):                        0.159\n",
            "Kurtosis:                       2.758   Cond. No.                         2.68\n",
            "==============================================================================\n",
            "\n",
            "Notes:\n",
            "[1] Standard Errors assume that the covariance matrix of the errors is correctly specified.\n"
          ]
        }
      ]
    },
    {
      "cell_type": "code",
      "source": [
        "# the second model\n",
        "mod2 = smf.ols(formula='DV ~ Predictor', data=df_two).fit()\n",
        "print(mod2.summary())"
      ],
      "metadata": {
        "collapsed": true,
        "colab": {
          "base_uri": "https://localhost:8080/"
        },
        "id": "Qs6zbB-J3bKP",
        "outputId": "3145d1d7-f900-494f-caca-a8cf2ba1f8c6"
      },
      "execution_count": 53,
      "outputs": [
        {
          "output_type": "stream",
          "name": "stdout",
          "text": [
            "                            OLS Regression Results                            \n",
            "==============================================================================\n",
            "Dep. Variable:                     DV   R-squared:                       0.792\n",
            "Model:                            OLS   Adj. R-squared:                  0.792\n",
            "Method:                 Least Squares   F-statistic:                     3802.\n",
            "Date:                Fri, 28 Feb 2025   Prob (F-statistic):               0.00\n",
            "Time:                        04:43:28   Log-Likelihood:                -3048.4\n",
            "No. Observations:                1000   AIC:                             6101.\n",
            "Df Residuals:                     998   BIC:                             6111.\n",
            "Df Model:                           1                                         \n",
            "Covariance Type:            nonrobust                                         \n",
            "==============================================================================\n",
            "                 coef    std err          t      P>|t|      [0.025      0.975]\n",
            "------------------------------------------------------------------------------\n",
            "Intercept     50.1376      0.234    214.438      0.000      49.679      50.596\n",
            "Predictor     19.9343      0.323     61.658      0.000      19.300      20.569\n",
            "==============================================================================\n",
            "Omnibus:                        2.457   Durbin-Watson:                   1.998\n",
            "Prob(Omnibus):                  0.293   Jarque-Bera (JB):                2.493\n",
            "Skew:                          -0.097   Prob(JB):                        0.288\n",
            "Kurtosis:                       2.851   Cond. No.                         2.68\n",
            "==============================================================================\n",
            "\n",
            "Notes:\n",
            "[1] Standard Errors assume that the covariance matrix of the errors is correctly specified.\n"
          ]
        }
      ]
    },
    {
      "cell_type": "code",
      "source": [
        "# can eyeball the coefficients beforehand, of course"
      ],
      "metadata": {
        "id": "rl1xDa0z3gsj"
      },
      "execution_count": null,
      "outputs": []
    },
    {
      "cell_type": "code",
      "source": [
        "# function to do the entire comparison just by throwing in the two models\n",
        "def comp_slopes_mods(mod1, mod2):\n",
        "  # get all the slopes and intercepts\n",
        "  b1 = mod1.params.iloc[1]\n",
        "  b2 = mod2.params.iloc[1]\n",
        "  se1 = mod1.bse.iloc[1]\n",
        "  se2 = mod2.bse.iloc[1]\n",
        "\n",
        "  # now, we are in a familiar space\n",
        "  slop_dif = b1 - b2\n",
        "  se1_sq = se1**2\n",
        "  se2_sq = se2**2\n",
        "  se_comp = se1_sq + se2_sq # combine the ses\n",
        "  sqrt_se_comp = math.sqrt(se_comp)\n",
        "  z_value = round(slop_dif / sqrt_se_comp, 4) # can change if needed\n",
        "\n",
        "  # get the p-value associated with the z statistic\n",
        "  p_value = stats.norm.sf(abs(z_value)) * 2 # we're taking the absolute the value, can change if needed\n",
        "\n",
        "  # can change if needed\n",
        "  print(f\"The slope for the first model is {b1.round(2)} and the se is {se1.round(2)}\")\n",
        "  print(f\"The slope for the second model is {b2.round(2)} and the se is {se2.round(2)}\")\n",
        "  print(f\"The Z statistic is {z_value.round(2)} and the p-value is {p_value}\") # not rounding the p-value because it is fun\n",
        "  if abs(z_value) > 1.96:\n",
        "    print(f\"The difference in slopes is statistically significant!\")\n",
        "  else:\n",
        "    print(f\"The difference in slopes is NOT statistically significant!\")"
      ],
      "metadata": {
        "id": "jpGu-m_B3q4C"
      },
      "execution_count": 77,
      "outputs": []
    },
    {
      "cell_type": "code",
      "source": [
        "# now, comparison of the two model\n",
        "comp_slopes_mods(mod1, mod2)"
      ],
      "metadata": {
        "colab": {
          "base_uri": "https://localhost:8080/"
        },
        "id": "TcAQIG5C6VXM",
        "outputId": "a7dd8fd3-8d72-406e-c82b-5bf0ef91ec75"
      },
      "execution_count": 78,
      "outputs": [
        {
          "output_type": "stream",
          "name": "stdout",
          "text": [
            "The slope for the first model is 9.68 and the se is 0.44\n",
            "The slope for the second model is 19.93 and the se is 0.32\n",
            "The Z statistic is -18.91 and the p-value is 9.153685236338209e-80\n",
            "The difference in slopes is statistically significant!\n"
          ]
        }
      ]
    }
  ]
}